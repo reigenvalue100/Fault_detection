{
  "nbformat": 4,
  "nbformat_minor": 0,
  "metadata": {
    "colab": {
      "provenance": []
    },
    "kernelspec": {
      "name": "python3",
      "display_name": "Python 3"
    },
    "language_info": {
      "name": "python"
    },
    "accelerator": "GPU",
    "gpuClass": "standard",
    "widgets": {
      "application/vnd.jupyter.widget-state+json": {
        "03b1a115afcc4bd0a2e8ef472b5dc7c1": {
          "model_module": "@jupyter-widgets/controls",
          "model_name": "HBoxModel",
          "model_module_version": "1.5.0",
          "state": {
            "_dom_classes": [],
            "_model_module": "@jupyter-widgets/controls",
            "_model_module_version": "1.5.0",
            "_model_name": "HBoxModel",
            "_view_count": null,
            "_view_module": "@jupyter-widgets/controls",
            "_view_module_version": "1.5.0",
            "_view_name": "HBoxView",
            "box_style": "",
            "children": [
              "IPY_MODEL_33ba72a923a9450e9221b234f10469a1",
              "IPY_MODEL_2d57849cd43640fb85d68ca7aa590a21",
              "IPY_MODEL_98a0b460f4944f969390f3fa3e669c93"
            ],
            "layout": "IPY_MODEL_6c6cae08c9644c9a9e688104aa84753f"
          }
        },
        "33ba72a923a9450e9221b234f10469a1": {
          "model_module": "@jupyter-widgets/controls",
          "model_name": "HTMLModel",
          "model_module_version": "1.5.0",
          "state": {
            "_dom_classes": [],
            "_model_module": "@jupyter-widgets/controls",
            "_model_module_version": "1.5.0",
            "_model_name": "HTMLModel",
            "_view_count": null,
            "_view_module": "@jupyter-widgets/controls",
            "_view_module_version": "1.5.0",
            "_view_name": "HTMLView",
            "description": "",
            "description_tooltip": null,
            "layout": "IPY_MODEL_fe9b9102b2f141fdb5480a2466d8e11d",
            "placeholder": "​",
            "style": "IPY_MODEL_629d84f5193745f19573c2a4afe85237",
            "value": "100%"
          }
        },
        "2d57849cd43640fb85d68ca7aa590a21": {
          "model_module": "@jupyter-widgets/controls",
          "model_name": "FloatProgressModel",
          "model_module_version": "1.5.0",
          "state": {
            "_dom_classes": [],
            "_model_module": "@jupyter-widgets/controls",
            "_model_module_version": "1.5.0",
            "_model_name": "FloatProgressModel",
            "_view_count": null,
            "_view_module": "@jupyter-widgets/controls",
            "_view_module_version": "1.5.0",
            "_view_name": "ProgressView",
            "bar_style": "success",
            "description": "",
            "description_tooltip": null,
            "layout": "IPY_MODEL_241e03e2be9f498596d54dc189274134",
            "max": 1200,
            "min": 0,
            "orientation": "horizontal",
            "style": "IPY_MODEL_4441edc9258040e19177e1ea669b1a42",
            "value": 1200
          }
        },
        "98a0b460f4944f969390f3fa3e669c93": {
          "model_module": "@jupyter-widgets/controls",
          "model_name": "HTMLModel",
          "model_module_version": "1.5.0",
          "state": {
            "_dom_classes": [],
            "_model_module": "@jupyter-widgets/controls",
            "_model_module_version": "1.5.0",
            "_model_name": "HTMLModel",
            "_view_count": null,
            "_view_module": "@jupyter-widgets/controls",
            "_view_module_version": "1.5.0",
            "_view_name": "HTMLView",
            "description": "",
            "description_tooltip": null,
            "layout": "IPY_MODEL_9ed550d923ad4cbd833bc4436e8d21a9",
            "placeholder": "​",
            "style": "IPY_MODEL_64e119fc6f9643489a005ae93af5c30c",
            "value": " 1200/1200 [00:25&lt;00:00, 47.13it/s]"
          }
        },
        "6c6cae08c9644c9a9e688104aa84753f": {
          "model_module": "@jupyter-widgets/base",
          "model_name": "LayoutModel",
          "model_module_version": "1.2.0",
          "state": {
            "_model_module": "@jupyter-widgets/base",
            "_model_module_version": "1.2.0",
            "_model_name": "LayoutModel",
            "_view_count": null,
            "_view_module": "@jupyter-widgets/base",
            "_view_module_version": "1.2.0",
            "_view_name": "LayoutView",
            "align_content": null,
            "align_items": null,
            "align_self": null,
            "border": null,
            "bottom": null,
            "display": null,
            "flex": null,
            "flex_flow": null,
            "grid_area": null,
            "grid_auto_columns": null,
            "grid_auto_flow": null,
            "grid_auto_rows": null,
            "grid_column": null,
            "grid_gap": null,
            "grid_row": null,
            "grid_template_areas": null,
            "grid_template_columns": null,
            "grid_template_rows": null,
            "height": null,
            "justify_content": null,
            "justify_items": null,
            "left": null,
            "margin": null,
            "max_height": null,
            "max_width": null,
            "min_height": null,
            "min_width": null,
            "object_fit": null,
            "object_position": null,
            "order": null,
            "overflow": null,
            "overflow_x": null,
            "overflow_y": null,
            "padding": null,
            "right": null,
            "top": null,
            "visibility": null,
            "width": null
          }
        },
        "fe9b9102b2f141fdb5480a2466d8e11d": {
          "model_module": "@jupyter-widgets/base",
          "model_name": "LayoutModel",
          "model_module_version": "1.2.0",
          "state": {
            "_model_module": "@jupyter-widgets/base",
            "_model_module_version": "1.2.0",
            "_model_name": "LayoutModel",
            "_view_count": null,
            "_view_module": "@jupyter-widgets/base",
            "_view_module_version": "1.2.0",
            "_view_name": "LayoutView",
            "align_content": null,
            "align_items": null,
            "align_self": null,
            "border": null,
            "bottom": null,
            "display": null,
            "flex": null,
            "flex_flow": null,
            "grid_area": null,
            "grid_auto_columns": null,
            "grid_auto_flow": null,
            "grid_auto_rows": null,
            "grid_column": null,
            "grid_gap": null,
            "grid_row": null,
            "grid_template_areas": null,
            "grid_template_columns": null,
            "grid_template_rows": null,
            "height": null,
            "justify_content": null,
            "justify_items": null,
            "left": null,
            "margin": null,
            "max_height": null,
            "max_width": null,
            "min_height": null,
            "min_width": null,
            "object_fit": null,
            "object_position": null,
            "order": null,
            "overflow": null,
            "overflow_x": null,
            "overflow_y": null,
            "padding": null,
            "right": null,
            "top": null,
            "visibility": null,
            "width": null
          }
        },
        "629d84f5193745f19573c2a4afe85237": {
          "model_module": "@jupyter-widgets/controls",
          "model_name": "DescriptionStyleModel",
          "model_module_version": "1.5.0",
          "state": {
            "_model_module": "@jupyter-widgets/controls",
            "_model_module_version": "1.5.0",
            "_model_name": "DescriptionStyleModel",
            "_view_count": null,
            "_view_module": "@jupyter-widgets/base",
            "_view_module_version": "1.2.0",
            "_view_name": "StyleView",
            "description_width": ""
          }
        },
        "241e03e2be9f498596d54dc189274134": {
          "model_module": "@jupyter-widgets/base",
          "model_name": "LayoutModel",
          "model_module_version": "1.2.0",
          "state": {
            "_model_module": "@jupyter-widgets/base",
            "_model_module_version": "1.2.0",
            "_model_name": "LayoutModel",
            "_view_count": null,
            "_view_module": "@jupyter-widgets/base",
            "_view_module_version": "1.2.0",
            "_view_name": "LayoutView",
            "align_content": null,
            "align_items": null,
            "align_self": null,
            "border": null,
            "bottom": null,
            "display": null,
            "flex": null,
            "flex_flow": null,
            "grid_area": null,
            "grid_auto_columns": null,
            "grid_auto_flow": null,
            "grid_auto_rows": null,
            "grid_column": null,
            "grid_gap": null,
            "grid_row": null,
            "grid_template_areas": null,
            "grid_template_columns": null,
            "grid_template_rows": null,
            "height": null,
            "justify_content": null,
            "justify_items": null,
            "left": null,
            "margin": null,
            "max_height": null,
            "max_width": null,
            "min_height": null,
            "min_width": null,
            "object_fit": null,
            "object_position": null,
            "order": null,
            "overflow": null,
            "overflow_x": null,
            "overflow_y": null,
            "padding": null,
            "right": null,
            "top": null,
            "visibility": null,
            "width": null
          }
        },
        "4441edc9258040e19177e1ea669b1a42": {
          "model_module": "@jupyter-widgets/controls",
          "model_name": "ProgressStyleModel",
          "model_module_version": "1.5.0",
          "state": {
            "_model_module": "@jupyter-widgets/controls",
            "_model_module_version": "1.5.0",
            "_model_name": "ProgressStyleModel",
            "_view_count": null,
            "_view_module": "@jupyter-widgets/base",
            "_view_module_version": "1.2.0",
            "_view_name": "StyleView",
            "bar_color": null,
            "description_width": ""
          }
        },
        "9ed550d923ad4cbd833bc4436e8d21a9": {
          "model_module": "@jupyter-widgets/base",
          "model_name": "LayoutModel",
          "model_module_version": "1.2.0",
          "state": {
            "_model_module": "@jupyter-widgets/base",
            "_model_module_version": "1.2.0",
            "_model_name": "LayoutModel",
            "_view_count": null,
            "_view_module": "@jupyter-widgets/base",
            "_view_module_version": "1.2.0",
            "_view_name": "LayoutView",
            "align_content": null,
            "align_items": null,
            "align_self": null,
            "border": null,
            "bottom": null,
            "display": null,
            "flex": null,
            "flex_flow": null,
            "grid_area": null,
            "grid_auto_columns": null,
            "grid_auto_flow": null,
            "grid_auto_rows": null,
            "grid_column": null,
            "grid_gap": null,
            "grid_row": null,
            "grid_template_areas": null,
            "grid_template_columns": null,
            "grid_template_rows": null,
            "height": null,
            "justify_content": null,
            "justify_items": null,
            "left": null,
            "margin": null,
            "max_height": null,
            "max_width": null,
            "min_height": null,
            "min_width": null,
            "object_fit": null,
            "object_position": null,
            "order": null,
            "overflow": null,
            "overflow_x": null,
            "overflow_y": null,
            "padding": null,
            "right": null,
            "top": null,
            "visibility": null,
            "width": null
          }
        },
        "64e119fc6f9643489a005ae93af5c30c": {
          "model_module": "@jupyter-widgets/controls",
          "model_name": "DescriptionStyleModel",
          "model_module_version": "1.5.0",
          "state": {
            "_model_module": "@jupyter-widgets/controls",
            "_model_module_version": "1.5.0",
            "_model_name": "DescriptionStyleModel",
            "_view_count": null,
            "_view_module": "@jupyter-widgets/base",
            "_view_module_version": "1.2.0",
            "_view_name": "StyleView",
            "description_width": ""
          }
        },
        "6d4f9afa165445109f199baa54945ebd": {
          "model_module": "@jupyter-widgets/controls",
          "model_name": "HBoxModel",
          "model_module_version": "1.5.0",
          "state": {
            "_dom_classes": [],
            "_model_module": "@jupyter-widgets/controls",
            "_model_module_version": "1.5.0",
            "_model_name": "HBoxModel",
            "_view_count": null,
            "_view_module": "@jupyter-widgets/controls",
            "_view_module_version": "1.5.0",
            "_view_name": "HBoxView",
            "box_style": "",
            "children": [
              "IPY_MODEL_34e8278952cb42819a06de5a9c09851b",
              "IPY_MODEL_4759e0360eab4d3d9cf8fd1406ce1ca8",
              "IPY_MODEL_c02ff8bf77394064b27ccac04e431194"
            ],
            "layout": "IPY_MODEL_d818ba73527d4fb0bf0a956eb01e949a"
          }
        },
        "34e8278952cb42819a06de5a9c09851b": {
          "model_module": "@jupyter-widgets/controls",
          "model_name": "HTMLModel",
          "model_module_version": "1.5.0",
          "state": {
            "_dom_classes": [],
            "_model_module": "@jupyter-widgets/controls",
            "_model_module_version": "1.5.0",
            "_model_name": "HTMLModel",
            "_view_count": null,
            "_view_module": "@jupyter-widgets/controls",
            "_view_module_version": "1.5.0",
            "_view_name": "HTMLView",
            "description": "",
            "description_tooltip": null,
            "layout": "IPY_MODEL_973687f3ef544f8485ac0e1f576240b0",
            "placeholder": "​",
            "style": "IPY_MODEL_ee4004a893b74fb998548b63a746794c",
            "value": "100%"
          }
        },
        "4759e0360eab4d3d9cf8fd1406ce1ca8": {
          "model_module": "@jupyter-widgets/controls",
          "model_name": "FloatProgressModel",
          "model_module_version": "1.5.0",
          "state": {
            "_dom_classes": [],
            "_model_module": "@jupyter-widgets/controls",
            "_model_module_version": "1.5.0",
            "_model_name": "FloatProgressModel",
            "_view_count": null,
            "_view_module": "@jupyter-widgets/controls",
            "_view_module_version": "1.5.0",
            "_view_name": "ProgressView",
            "bar_style": "success",
            "description": "",
            "description_tooltip": null,
            "layout": "IPY_MODEL_8da0664ca6834fd09f3bfb7bd142b025",
            "max": 150,
            "min": 0,
            "orientation": "horizontal",
            "style": "IPY_MODEL_7c822cde1be8422b84900c3597a4cdea",
            "value": 150
          }
        },
        "c02ff8bf77394064b27ccac04e431194": {
          "model_module": "@jupyter-widgets/controls",
          "model_name": "HTMLModel",
          "model_module_version": "1.5.0",
          "state": {
            "_dom_classes": [],
            "_model_module": "@jupyter-widgets/controls",
            "_model_module_version": "1.5.0",
            "_model_name": "HTMLModel",
            "_view_count": null,
            "_view_module": "@jupyter-widgets/controls",
            "_view_module_version": "1.5.0",
            "_view_name": "HTMLView",
            "description": "",
            "description_tooltip": null,
            "layout": "IPY_MODEL_4b61dbea35e24a738581639df8f4929a",
            "placeholder": "​",
            "style": "IPY_MODEL_e066c3ceabed465db4f424efd5f3ced6",
            "value": " 150/150 [00:03&lt;00:00, 46.05it/s]"
          }
        },
        "d818ba73527d4fb0bf0a956eb01e949a": {
          "model_module": "@jupyter-widgets/base",
          "model_name": "LayoutModel",
          "model_module_version": "1.2.0",
          "state": {
            "_model_module": "@jupyter-widgets/base",
            "_model_module_version": "1.2.0",
            "_model_name": "LayoutModel",
            "_view_count": null,
            "_view_module": "@jupyter-widgets/base",
            "_view_module_version": "1.2.0",
            "_view_name": "LayoutView",
            "align_content": null,
            "align_items": null,
            "align_self": null,
            "border": null,
            "bottom": null,
            "display": null,
            "flex": null,
            "flex_flow": null,
            "grid_area": null,
            "grid_auto_columns": null,
            "grid_auto_flow": null,
            "grid_auto_rows": null,
            "grid_column": null,
            "grid_gap": null,
            "grid_row": null,
            "grid_template_areas": null,
            "grid_template_columns": null,
            "grid_template_rows": null,
            "height": null,
            "justify_content": null,
            "justify_items": null,
            "left": null,
            "margin": null,
            "max_height": null,
            "max_width": null,
            "min_height": null,
            "min_width": null,
            "object_fit": null,
            "object_position": null,
            "order": null,
            "overflow": null,
            "overflow_x": null,
            "overflow_y": null,
            "padding": null,
            "right": null,
            "top": null,
            "visibility": null,
            "width": null
          }
        },
        "973687f3ef544f8485ac0e1f576240b0": {
          "model_module": "@jupyter-widgets/base",
          "model_name": "LayoutModel",
          "model_module_version": "1.2.0",
          "state": {
            "_model_module": "@jupyter-widgets/base",
            "_model_module_version": "1.2.0",
            "_model_name": "LayoutModel",
            "_view_count": null,
            "_view_module": "@jupyter-widgets/base",
            "_view_module_version": "1.2.0",
            "_view_name": "LayoutView",
            "align_content": null,
            "align_items": null,
            "align_self": null,
            "border": null,
            "bottom": null,
            "display": null,
            "flex": null,
            "flex_flow": null,
            "grid_area": null,
            "grid_auto_columns": null,
            "grid_auto_flow": null,
            "grid_auto_rows": null,
            "grid_column": null,
            "grid_gap": null,
            "grid_row": null,
            "grid_template_areas": null,
            "grid_template_columns": null,
            "grid_template_rows": null,
            "height": null,
            "justify_content": null,
            "justify_items": null,
            "left": null,
            "margin": null,
            "max_height": null,
            "max_width": null,
            "min_height": null,
            "min_width": null,
            "object_fit": null,
            "object_position": null,
            "order": null,
            "overflow": null,
            "overflow_x": null,
            "overflow_y": null,
            "padding": null,
            "right": null,
            "top": null,
            "visibility": null,
            "width": null
          }
        },
        "ee4004a893b74fb998548b63a746794c": {
          "model_module": "@jupyter-widgets/controls",
          "model_name": "DescriptionStyleModel",
          "model_module_version": "1.5.0",
          "state": {
            "_model_module": "@jupyter-widgets/controls",
            "_model_module_version": "1.5.0",
            "_model_name": "DescriptionStyleModel",
            "_view_count": null,
            "_view_module": "@jupyter-widgets/base",
            "_view_module_version": "1.2.0",
            "_view_name": "StyleView",
            "description_width": ""
          }
        },
        "8da0664ca6834fd09f3bfb7bd142b025": {
          "model_module": "@jupyter-widgets/base",
          "model_name": "LayoutModel",
          "model_module_version": "1.2.0",
          "state": {
            "_model_module": "@jupyter-widgets/base",
            "_model_module_version": "1.2.0",
            "_model_name": "LayoutModel",
            "_view_count": null,
            "_view_module": "@jupyter-widgets/base",
            "_view_module_version": "1.2.0",
            "_view_name": "LayoutView",
            "align_content": null,
            "align_items": null,
            "align_self": null,
            "border": null,
            "bottom": null,
            "display": null,
            "flex": null,
            "flex_flow": null,
            "grid_area": null,
            "grid_auto_columns": null,
            "grid_auto_flow": null,
            "grid_auto_rows": null,
            "grid_column": null,
            "grid_gap": null,
            "grid_row": null,
            "grid_template_areas": null,
            "grid_template_columns": null,
            "grid_template_rows": null,
            "height": null,
            "justify_content": null,
            "justify_items": null,
            "left": null,
            "margin": null,
            "max_height": null,
            "max_width": null,
            "min_height": null,
            "min_width": null,
            "object_fit": null,
            "object_position": null,
            "order": null,
            "overflow": null,
            "overflow_x": null,
            "overflow_y": null,
            "padding": null,
            "right": null,
            "top": null,
            "visibility": null,
            "width": null
          }
        },
        "7c822cde1be8422b84900c3597a4cdea": {
          "model_module": "@jupyter-widgets/controls",
          "model_name": "ProgressStyleModel",
          "model_module_version": "1.5.0",
          "state": {
            "_model_module": "@jupyter-widgets/controls",
            "_model_module_version": "1.5.0",
            "_model_name": "ProgressStyleModel",
            "_view_count": null,
            "_view_module": "@jupyter-widgets/base",
            "_view_module_version": "1.2.0",
            "_view_name": "StyleView",
            "bar_color": null,
            "description_width": ""
          }
        },
        "4b61dbea35e24a738581639df8f4929a": {
          "model_module": "@jupyter-widgets/base",
          "model_name": "LayoutModel",
          "model_module_version": "1.2.0",
          "state": {
            "_model_module": "@jupyter-widgets/base",
            "_model_module_version": "1.2.0",
            "_model_name": "LayoutModel",
            "_view_count": null,
            "_view_module": "@jupyter-widgets/base",
            "_view_module_version": "1.2.0",
            "_view_name": "LayoutView",
            "align_content": null,
            "align_items": null,
            "align_self": null,
            "border": null,
            "bottom": null,
            "display": null,
            "flex": null,
            "flex_flow": null,
            "grid_area": null,
            "grid_auto_columns": null,
            "grid_auto_flow": null,
            "grid_auto_rows": null,
            "grid_column": null,
            "grid_gap": null,
            "grid_row": null,
            "grid_template_areas": null,
            "grid_template_columns": null,
            "grid_template_rows": null,
            "height": null,
            "justify_content": null,
            "justify_items": null,
            "left": null,
            "margin": null,
            "max_height": null,
            "max_width": null,
            "min_height": null,
            "min_width": null,
            "object_fit": null,
            "object_position": null,
            "order": null,
            "overflow": null,
            "overflow_x": null,
            "overflow_y": null,
            "padding": null,
            "right": null,
            "top": null,
            "visibility": null,
            "width": null
          }
        },
        "e066c3ceabed465db4f424efd5f3ced6": {
          "model_module": "@jupyter-widgets/controls",
          "model_name": "DescriptionStyleModel",
          "model_module_version": "1.5.0",
          "state": {
            "_model_module": "@jupyter-widgets/controls",
            "_model_module_version": "1.5.0",
            "_model_name": "DescriptionStyleModel",
            "_view_count": null,
            "_view_module": "@jupyter-widgets/base",
            "_view_module_version": "1.2.0",
            "_view_name": "StyleView",
            "description_width": ""
          }
        },
        "3abbed8d900545f381cf9af6f4693fc1": {
          "model_module": "@jupyter-widgets/controls",
          "model_name": "HBoxModel",
          "model_module_version": "1.5.0",
          "state": {
            "_dom_classes": [],
            "_model_module": "@jupyter-widgets/controls",
            "_model_module_version": "1.5.0",
            "_model_name": "HBoxModel",
            "_view_count": null,
            "_view_module": "@jupyter-widgets/controls",
            "_view_module_version": "1.5.0",
            "_view_name": "HBoxView",
            "box_style": "",
            "children": [
              "IPY_MODEL_017067c2572d47dab685ff28ced24800",
              "IPY_MODEL_ca0a95003e1c43c8b9e3494131a74cbd",
              "IPY_MODEL_28bc030c10ac4d56a829ef063544cac9"
            ],
            "layout": "IPY_MODEL_e67c6ba7b7624332ad10647e8e56cadc"
          }
        },
        "017067c2572d47dab685ff28ced24800": {
          "model_module": "@jupyter-widgets/controls",
          "model_name": "HTMLModel",
          "model_module_version": "1.5.0",
          "state": {
            "_dom_classes": [],
            "_model_module": "@jupyter-widgets/controls",
            "_model_module_version": "1.5.0",
            "_model_name": "HTMLModel",
            "_view_count": null,
            "_view_module": "@jupyter-widgets/controls",
            "_view_module_version": "1.5.0",
            "_view_name": "HTMLView",
            "description": "",
            "description_tooltip": null,
            "layout": "IPY_MODEL_c80c8224ae5b4853bf20d8687bfb0a79",
            "placeholder": "​",
            "style": "IPY_MODEL_1dd23a1b586346228e305b1a58c7e7e0",
            "value": "100%"
          }
        },
        "ca0a95003e1c43c8b9e3494131a74cbd": {
          "model_module": "@jupyter-widgets/controls",
          "model_name": "FloatProgressModel",
          "model_module_version": "1.5.0",
          "state": {
            "_dom_classes": [],
            "_model_module": "@jupyter-widgets/controls",
            "_model_module_version": "1.5.0",
            "_model_name": "FloatProgressModel",
            "_view_count": null,
            "_view_module": "@jupyter-widgets/controls",
            "_view_module_version": "1.5.0",
            "_view_name": "ProgressView",
            "bar_style": "success",
            "description": "",
            "description_tooltip": null,
            "layout": "IPY_MODEL_20ee648d8b3047d5b41edc73a13ce11a",
            "max": 150,
            "min": 0,
            "orientation": "horizontal",
            "style": "IPY_MODEL_83d3bf529d484f168b97219210187d52",
            "value": 150
          }
        },
        "28bc030c10ac4d56a829ef063544cac9": {
          "model_module": "@jupyter-widgets/controls",
          "model_name": "HTMLModel",
          "model_module_version": "1.5.0",
          "state": {
            "_dom_classes": [],
            "_model_module": "@jupyter-widgets/controls",
            "_model_module_version": "1.5.0",
            "_model_name": "HTMLModel",
            "_view_count": null,
            "_view_module": "@jupyter-widgets/controls",
            "_view_module_version": "1.5.0",
            "_view_name": "HTMLView",
            "description": "",
            "description_tooltip": null,
            "layout": "IPY_MODEL_15ac3f27b31e4f838685cb980c11ea39",
            "placeholder": "​",
            "style": "IPY_MODEL_e2917cc1e33645158b4485591b0e4853",
            "value": " 150/150 [00:03&lt;00:00, 48.16it/s]"
          }
        },
        "e67c6ba7b7624332ad10647e8e56cadc": {
          "model_module": "@jupyter-widgets/base",
          "model_name": "LayoutModel",
          "model_module_version": "1.2.0",
          "state": {
            "_model_module": "@jupyter-widgets/base",
            "_model_module_version": "1.2.0",
            "_model_name": "LayoutModel",
            "_view_count": null,
            "_view_module": "@jupyter-widgets/base",
            "_view_module_version": "1.2.0",
            "_view_name": "LayoutView",
            "align_content": null,
            "align_items": null,
            "align_self": null,
            "border": null,
            "bottom": null,
            "display": null,
            "flex": null,
            "flex_flow": null,
            "grid_area": null,
            "grid_auto_columns": null,
            "grid_auto_flow": null,
            "grid_auto_rows": null,
            "grid_column": null,
            "grid_gap": null,
            "grid_row": null,
            "grid_template_areas": null,
            "grid_template_columns": null,
            "grid_template_rows": null,
            "height": null,
            "justify_content": null,
            "justify_items": null,
            "left": null,
            "margin": null,
            "max_height": null,
            "max_width": null,
            "min_height": null,
            "min_width": null,
            "object_fit": null,
            "object_position": null,
            "order": null,
            "overflow": null,
            "overflow_x": null,
            "overflow_y": null,
            "padding": null,
            "right": null,
            "top": null,
            "visibility": null,
            "width": null
          }
        },
        "c80c8224ae5b4853bf20d8687bfb0a79": {
          "model_module": "@jupyter-widgets/base",
          "model_name": "LayoutModel",
          "model_module_version": "1.2.0",
          "state": {
            "_model_module": "@jupyter-widgets/base",
            "_model_module_version": "1.2.0",
            "_model_name": "LayoutModel",
            "_view_count": null,
            "_view_module": "@jupyter-widgets/base",
            "_view_module_version": "1.2.0",
            "_view_name": "LayoutView",
            "align_content": null,
            "align_items": null,
            "align_self": null,
            "border": null,
            "bottom": null,
            "display": null,
            "flex": null,
            "flex_flow": null,
            "grid_area": null,
            "grid_auto_columns": null,
            "grid_auto_flow": null,
            "grid_auto_rows": null,
            "grid_column": null,
            "grid_gap": null,
            "grid_row": null,
            "grid_template_areas": null,
            "grid_template_columns": null,
            "grid_template_rows": null,
            "height": null,
            "justify_content": null,
            "justify_items": null,
            "left": null,
            "margin": null,
            "max_height": null,
            "max_width": null,
            "min_height": null,
            "min_width": null,
            "object_fit": null,
            "object_position": null,
            "order": null,
            "overflow": null,
            "overflow_x": null,
            "overflow_y": null,
            "padding": null,
            "right": null,
            "top": null,
            "visibility": null,
            "width": null
          }
        },
        "1dd23a1b586346228e305b1a58c7e7e0": {
          "model_module": "@jupyter-widgets/controls",
          "model_name": "DescriptionStyleModel",
          "model_module_version": "1.5.0",
          "state": {
            "_model_module": "@jupyter-widgets/controls",
            "_model_module_version": "1.5.0",
            "_model_name": "DescriptionStyleModel",
            "_view_count": null,
            "_view_module": "@jupyter-widgets/base",
            "_view_module_version": "1.2.0",
            "_view_name": "StyleView",
            "description_width": ""
          }
        },
        "20ee648d8b3047d5b41edc73a13ce11a": {
          "model_module": "@jupyter-widgets/base",
          "model_name": "LayoutModel",
          "model_module_version": "1.2.0",
          "state": {
            "_model_module": "@jupyter-widgets/base",
            "_model_module_version": "1.2.0",
            "_model_name": "LayoutModel",
            "_view_count": null,
            "_view_module": "@jupyter-widgets/base",
            "_view_module_version": "1.2.0",
            "_view_name": "LayoutView",
            "align_content": null,
            "align_items": null,
            "align_self": null,
            "border": null,
            "bottom": null,
            "display": null,
            "flex": null,
            "flex_flow": null,
            "grid_area": null,
            "grid_auto_columns": null,
            "grid_auto_flow": null,
            "grid_auto_rows": null,
            "grid_column": null,
            "grid_gap": null,
            "grid_row": null,
            "grid_template_areas": null,
            "grid_template_columns": null,
            "grid_template_rows": null,
            "height": null,
            "justify_content": null,
            "justify_items": null,
            "left": null,
            "margin": null,
            "max_height": null,
            "max_width": null,
            "min_height": null,
            "min_width": null,
            "object_fit": null,
            "object_position": null,
            "order": null,
            "overflow": null,
            "overflow_x": null,
            "overflow_y": null,
            "padding": null,
            "right": null,
            "top": null,
            "visibility": null,
            "width": null
          }
        },
        "83d3bf529d484f168b97219210187d52": {
          "model_module": "@jupyter-widgets/controls",
          "model_name": "ProgressStyleModel",
          "model_module_version": "1.5.0",
          "state": {
            "_model_module": "@jupyter-widgets/controls",
            "_model_module_version": "1.5.0",
            "_model_name": "ProgressStyleModel",
            "_view_count": null,
            "_view_module": "@jupyter-widgets/base",
            "_view_module_version": "1.2.0",
            "_view_name": "StyleView",
            "bar_color": null,
            "description_width": ""
          }
        },
        "15ac3f27b31e4f838685cb980c11ea39": {
          "model_module": "@jupyter-widgets/base",
          "model_name": "LayoutModel",
          "model_module_version": "1.2.0",
          "state": {
            "_model_module": "@jupyter-widgets/base",
            "_model_module_version": "1.2.0",
            "_model_name": "LayoutModel",
            "_view_count": null,
            "_view_module": "@jupyter-widgets/base",
            "_view_module_version": "1.2.0",
            "_view_name": "LayoutView",
            "align_content": null,
            "align_items": null,
            "align_self": null,
            "border": null,
            "bottom": null,
            "display": null,
            "flex": null,
            "flex_flow": null,
            "grid_area": null,
            "grid_auto_columns": null,
            "grid_auto_flow": null,
            "grid_auto_rows": null,
            "grid_column": null,
            "grid_gap": null,
            "grid_row": null,
            "grid_template_areas": null,
            "grid_template_columns": null,
            "grid_template_rows": null,
            "height": null,
            "justify_content": null,
            "justify_items": null,
            "left": null,
            "margin": null,
            "max_height": null,
            "max_width": null,
            "min_height": null,
            "min_width": null,
            "object_fit": null,
            "object_position": null,
            "order": null,
            "overflow": null,
            "overflow_x": null,
            "overflow_y": null,
            "padding": null,
            "right": null,
            "top": null,
            "visibility": null,
            "width": null
          }
        },
        "e2917cc1e33645158b4485591b0e4853": {
          "model_module": "@jupyter-widgets/controls",
          "model_name": "DescriptionStyleModel",
          "model_module_version": "1.5.0",
          "state": {
            "_model_module": "@jupyter-widgets/controls",
            "_model_module_version": "1.5.0",
            "_model_name": "DescriptionStyleModel",
            "_view_count": null,
            "_view_module": "@jupyter-widgets/base",
            "_view_module_version": "1.2.0",
            "_view_name": "StyleView",
            "description_width": ""
          }
        },
        "5b747036366d4e4b92fc5f3ec5a568f6": {
          "model_module": "@jupyter-widgets/controls",
          "model_name": "HBoxModel",
          "model_module_version": "1.5.0",
          "state": {
            "_dom_classes": [],
            "_model_module": "@jupyter-widgets/controls",
            "_model_module_version": "1.5.0",
            "_model_name": "HBoxModel",
            "_view_count": null,
            "_view_module": "@jupyter-widgets/controls",
            "_view_module_version": "1.5.0",
            "_view_name": "HBoxView",
            "box_style": "",
            "children": [
              "IPY_MODEL_c06b34c7d76546558cd11f536015069a",
              "IPY_MODEL_13b786883ea248aebfec560d1e0c343c",
              "IPY_MODEL_fb83224a523f4ba8a20f1df5eb584e23"
            ],
            "layout": "IPY_MODEL_b15b7ce452414ae9a203412f353740c9"
          }
        },
        "c06b34c7d76546558cd11f536015069a": {
          "model_module": "@jupyter-widgets/controls",
          "model_name": "HTMLModel",
          "model_module_version": "1.5.0",
          "state": {
            "_dom_classes": [],
            "_model_module": "@jupyter-widgets/controls",
            "_model_module_version": "1.5.0",
            "_model_name": "HTMLModel",
            "_view_count": null,
            "_view_module": "@jupyter-widgets/controls",
            "_view_module_version": "1.5.0",
            "_view_name": "HTMLView",
            "description": "",
            "description_tooltip": null,
            "layout": "IPY_MODEL_01043082f9b249b890f0f61a0e0bf56c",
            "placeholder": "​",
            "style": "IPY_MODEL_2726aa3da7a6492b92e473b5d55fcb81",
            "value": "100%"
          }
        },
        "13b786883ea248aebfec560d1e0c343c": {
          "model_module": "@jupyter-widgets/controls",
          "model_name": "FloatProgressModel",
          "model_module_version": "1.5.0",
          "state": {
            "_dom_classes": [],
            "_model_module": "@jupyter-widgets/controls",
            "_model_module_version": "1.5.0",
            "_model_name": "FloatProgressModel",
            "_view_count": null,
            "_view_module": "@jupyter-widgets/controls",
            "_view_module_version": "1.5.0",
            "_view_name": "ProgressView",
            "bar_style": "success",
            "description": "",
            "description_tooltip": null,
            "layout": "IPY_MODEL_16ac255ad4b94ed4a9e8dae33585ca1e",
            "max": 150,
            "min": 0,
            "orientation": "horizontal",
            "style": "IPY_MODEL_3081e08b19a948ff878a8ff6ed4904f7",
            "value": 150
          }
        },
        "fb83224a523f4ba8a20f1df5eb584e23": {
          "model_module": "@jupyter-widgets/controls",
          "model_name": "HTMLModel",
          "model_module_version": "1.5.0",
          "state": {
            "_dom_classes": [],
            "_model_module": "@jupyter-widgets/controls",
            "_model_module_version": "1.5.0",
            "_model_name": "HTMLModel",
            "_view_count": null,
            "_view_module": "@jupyter-widgets/controls",
            "_view_module_version": "1.5.0",
            "_view_name": "HTMLView",
            "description": "",
            "description_tooltip": null,
            "layout": "IPY_MODEL_6e06e40303d843b8b9a028795d44ff89",
            "placeholder": "​",
            "style": "IPY_MODEL_c059edf580f3416d89d6235af9c05614",
            "value": " 150/150 [00:03&lt;00:00, 47.58it/s]"
          }
        },
        "b15b7ce452414ae9a203412f353740c9": {
          "model_module": "@jupyter-widgets/base",
          "model_name": "LayoutModel",
          "model_module_version": "1.2.0",
          "state": {
            "_model_module": "@jupyter-widgets/base",
            "_model_module_version": "1.2.0",
            "_model_name": "LayoutModel",
            "_view_count": null,
            "_view_module": "@jupyter-widgets/base",
            "_view_module_version": "1.2.0",
            "_view_name": "LayoutView",
            "align_content": null,
            "align_items": null,
            "align_self": null,
            "border": null,
            "bottom": null,
            "display": null,
            "flex": null,
            "flex_flow": null,
            "grid_area": null,
            "grid_auto_columns": null,
            "grid_auto_flow": null,
            "grid_auto_rows": null,
            "grid_column": null,
            "grid_gap": null,
            "grid_row": null,
            "grid_template_areas": null,
            "grid_template_columns": null,
            "grid_template_rows": null,
            "height": null,
            "justify_content": null,
            "justify_items": null,
            "left": null,
            "margin": null,
            "max_height": null,
            "max_width": null,
            "min_height": null,
            "min_width": null,
            "object_fit": null,
            "object_position": null,
            "order": null,
            "overflow": null,
            "overflow_x": null,
            "overflow_y": null,
            "padding": null,
            "right": null,
            "top": null,
            "visibility": null,
            "width": null
          }
        },
        "01043082f9b249b890f0f61a0e0bf56c": {
          "model_module": "@jupyter-widgets/base",
          "model_name": "LayoutModel",
          "model_module_version": "1.2.0",
          "state": {
            "_model_module": "@jupyter-widgets/base",
            "_model_module_version": "1.2.0",
            "_model_name": "LayoutModel",
            "_view_count": null,
            "_view_module": "@jupyter-widgets/base",
            "_view_module_version": "1.2.0",
            "_view_name": "LayoutView",
            "align_content": null,
            "align_items": null,
            "align_self": null,
            "border": null,
            "bottom": null,
            "display": null,
            "flex": null,
            "flex_flow": null,
            "grid_area": null,
            "grid_auto_columns": null,
            "grid_auto_flow": null,
            "grid_auto_rows": null,
            "grid_column": null,
            "grid_gap": null,
            "grid_row": null,
            "grid_template_areas": null,
            "grid_template_columns": null,
            "grid_template_rows": null,
            "height": null,
            "justify_content": null,
            "justify_items": null,
            "left": null,
            "margin": null,
            "max_height": null,
            "max_width": null,
            "min_height": null,
            "min_width": null,
            "object_fit": null,
            "object_position": null,
            "order": null,
            "overflow": null,
            "overflow_x": null,
            "overflow_y": null,
            "padding": null,
            "right": null,
            "top": null,
            "visibility": null,
            "width": null
          }
        },
        "2726aa3da7a6492b92e473b5d55fcb81": {
          "model_module": "@jupyter-widgets/controls",
          "model_name": "DescriptionStyleModel",
          "model_module_version": "1.5.0",
          "state": {
            "_model_module": "@jupyter-widgets/controls",
            "_model_module_version": "1.5.0",
            "_model_name": "DescriptionStyleModel",
            "_view_count": null,
            "_view_module": "@jupyter-widgets/base",
            "_view_module_version": "1.2.0",
            "_view_name": "StyleView",
            "description_width": ""
          }
        },
        "16ac255ad4b94ed4a9e8dae33585ca1e": {
          "model_module": "@jupyter-widgets/base",
          "model_name": "LayoutModel",
          "model_module_version": "1.2.0",
          "state": {
            "_model_module": "@jupyter-widgets/base",
            "_model_module_version": "1.2.0",
            "_model_name": "LayoutModel",
            "_view_count": null,
            "_view_module": "@jupyter-widgets/base",
            "_view_module_version": "1.2.0",
            "_view_name": "LayoutView",
            "align_content": null,
            "align_items": null,
            "align_self": null,
            "border": null,
            "bottom": null,
            "display": null,
            "flex": null,
            "flex_flow": null,
            "grid_area": null,
            "grid_auto_columns": null,
            "grid_auto_flow": null,
            "grid_auto_rows": null,
            "grid_column": null,
            "grid_gap": null,
            "grid_row": null,
            "grid_template_areas": null,
            "grid_template_columns": null,
            "grid_template_rows": null,
            "height": null,
            "justify_content": null,
            "justify_items": null,
            "left": null,
            "margin": null,
            "max_height": null,
            "max_width": null,
            "min_height": null,
            "min_width": null,
            "object_fit": null,
            "object_position": null,
            "order": null,
            "overflow": null,
            "overflow_x": null,
            "overflow_y": null,
            "padding": null,
            "right": null,
            "top": null,
            "visibility": null,
            "width": null
          }
        },
        "3081e08b19a948ff878a8ff6ed4904f7": {
          "model_module": "@jupyter-widgets/controls",
          "model_name": "ProgressStyleModel",
          "model_module_version": "1.5.0",
          "state": {
            "_model_module": "@jupyter-widgets/controls",
            "_model_module_version": "1.5.0",
            "_model_name": "ProgressStyleModel",
            "_view_count": null,
            "_view_module": "@jupyter-widgets/base",
            "_view_module_version": "1.2.0",
            "_view_name": "StyleView",
            "bar_color": null,
            "description_width": ""
          }
        },
        "6e06e40303d843b8b9a028795d44ff89": {
          "model_module": "@jupyter-widgets/base",
          "model_name": "LayoutModel",
          "model_module_version": "1.2.0",
          "state": {
            "_model_module": "@jupyter-widgets/base",
            "_model_module_version": "1.2.0",
            "_model_name": "LayoutModel",
            "_view_count": null,
            "_view_module": "@jupyter-widgets/base",
            "_view_module_version": "1.2.0",
            "_view_name": "LayoutView",
            "align_content": null,
            "align_items": null,
            "align_self": null,
            "border": null,
            "bottom": null,
            "display": null,
            "flex": null,
            "flex_flow": null,
            "grid_area": null,
            "grid_auto_columns": null,
            "grid_auto_flow": null,
            "grid_auto_rows": null,
            "grid_column": null,
            "grid_gap": null,
            "grid_row": null,
            "grid_template_areas": null,
            "grid_template_columns": null,
            "grid_template_rows": null,
            "height": null,
            "justify_content": null,
            "justify_items": null,
            "left": null,
            "margin": null,
            "max_height": null,
            "max_width": null,
            "min_height": null,
            "min_width": null,
            "object_fit": null,
            "object_position": null,
            "order": null,
            "overflow": null,
            "overflow_x": null,
            "overflow_y": null,
            "padding": null,
            "right": null,
            "top": null,
            "visibility": null,
            "width": null
          }
        },
        "c059edf580f3416d89d6235af9c05614": {
          "model_module": "@jupyter-widgets/controls",
          "model_name": "DescriptionStyleModel",
          "model_module_version": "1.5.0",
          "state": {
            "_model_module": "@jupyter-widgets/controls",
            "_model_module_version": "1.5.0",
            "_model_name": "DescriptionStyleModel",
            "_view_count": null,
            "_view_module": "@jupyter-widgets/base",
            "_view_module_version": "1.2.0",
            "_view_name": "StyleView",
            "description_width": ""
          }
        },
        "a7e271ac612c4cf0ae183997df05f413": {
          "model_module": "@jupyter-widgets/controls",
          "model_name": "HBoxModel",
          "model_module_version": "1.5.0",
          "state": {
            "_dom_classes": [],
            "_model_module": "@jupyter-widgets/controls",
            "_model_module_version": "1.5.0",
            "_model_name": "HBoxModel",
            "_view_count": null,
            "_view_module": "@jupyter-widgets/controls",
            "_view_module_version": "1.5.0",
            "_view_name": "HBoxView",
            "box_style": "",
            "children": [
              "IPY_MODEL_cfb31a94a8e741e29f5241b1e0227003",
              "IPY_MODEL_2fb442cf3cb646159654cac4eea68f38",
              "IPY_MODEL_04cfc59d384a4ff9b39131b62a3dd05f"
            ],
            "layout": "IPY_MODEL_a2ae99ac1b7a43328e65a7a3aeb458cb"
          }
        },
        "cfb31a94a8e741e29f5241b1e0227003": {
          "model_module": "@jupyter-widgets/controls",
          "model_name": "HTMLModel",
          "model_module_version": "1.5.0",
          "state": {
            "_dom_classes": [],
            "_model_module": "@jupyter-widgets/controls",
            "_model_module_version": "1.5.0",
            "_model_name": "HTMLModel",
            "_view_count": null,
            "_view_module": "@jupyter-widgets/controls",
            "_view_module_version": "1.5.0",
            "_view_name": "HTMLView",
            "description": "",
            "description_tooltip": null,
            "layout": "IPY_MODEL_b033c5bb58ab4bc1a2a0777d46f15f14",
            "placeholder": "​",
            "style": "IPY_MODEL_701b85d651614dd999d232451fcc4218",
            "value": "100%"
          }
        },
        "2fb442cf3cb646159654cac4eea68f38": {
          "model_module": "@jupyter-widgets/controls",
          "model_name": "FloatProgressModel",
          "model_module_version": "1.5.0",
          "state": {
            "_dom_classes": [],
            "_model_module": "@jupyter-widgets/controls",
            "_model_module_version": "1.5.0",
            "_model_name": "FloatProgressModel",
            "_view_count": null,
            "_view_module": "@jupyter-widgets/controls",
            "_view_module_version": "1.5.0",
            "_view_name": "ProgressView",
            "bar_style": "success",
            "description": "",
            "description_tooltip": null,
            "layout": "IPY_MODEL_e2fdcad088e642c5808866dd3761088f",
            "max": 150,
            "min": 0,
            "orientation": "horizontal",
            "style": "IPY_MODEL_3d0ef455df14487891f6600b325ed8ff",
            "value": 150
          }
        },
        "04cfc59d384a4ff9b39131b62a3dd05f": {
          "model_module": "@jupyter-widgets/controls",
          "model_name": "HTMLModel",
          "model_module_version": "1.5.0",
          "state": {
            "_dom_classes": [],
            "_model_module": "@jupyter-widgets/controls",
            "_model_module_version": "1.5.0",
            "_model_name": "HTMLModel",
            "_view_count": null,
            "_view_module": "@jupyter-widgets/controls",
            "_view_module_version": "1.5.0",
            "_view_name": "HTMLView",
            "description": "",
            "description_tooltip": null,
            "layout": "IPY_MODEL_316e734929944ed9aa2ff94cb3a1187d",
            "placeholder": "​",
            "style": "IPY_MODEL_29b23b03b89c4a5085dc4daec77419aa",
            "value": " 150/150 [00:03&lt;00:00, 46.26it/s]"
          }
        },
        "a2ae99ac1b7a43328e65a7a3aeb458cb": {
          "model_module": "@jupyter-widgets/base",
          "model_name": "LayoutModel",
          "model_module_version": "1.2.0",
          "state": {
            "_model_module": "@jupyter-widgets/base",
            "_model_module_version": "1.2.0",
            "_model_name": "LayoutModel",
            "_view_count": null,
            "_view_module": "@jupyter-widgets/base",
            "_view_module_version": "1.2.0",
            "_view_name": "LayoutView",
            "align_content": null,
            "align_items": null,
            "align_self": null,
            "border": null,
            "bottom": null,
            "display": null,
            "flex": null,
            "flex_flow": null,
            "grid_area": null,
            "grid_auto_columns": null,
            "grid_auto_flow": null,
            "grid_auto_rows": null,
            "grid_column": null,
            "grid_gap": null,
            "grid_row": null,
            "grid_template_areas": null,
            "grid_template_columns": null,
            "grid_template_rows": null,
            "height": null,
            "justify_content": null,
            "justify_items": null,
            "left": null,
            "margin": null,
            "max_height": null,
            "max_width": null,
            "min_height": null,
            "min_width": null,
            "object_fit": null,
            "object_position": null,
            "order": null,
            "overflow": null,
            "overflow_x": null,
            "overflow_y": null,
            "padding": null,
            "right": null,
            "top": null,
            "visibility": null,
            "width": null
          }
        },
        "b033c5bb58ab4bc1a2a0777d46f15f14": {
          "model_module": "@jupyter-widgets/base",
          "model_name": "LayoutModel",
          "model_module_version": "1.2.0",
          "state": {
            "_model_module": "@jupyter-widgets/base",
            "_model_module_version": "1.2.0",
            "_model_name": "LayoutModel",
            "_view_count": null,
            "_view_module": "@jupyter-widgets/base",
            "_view_module_version": "1.2.0",
            "_view_name": "LayoutView",
            "align_content": null,
            "align_items": null,
            "align_self": null,
            "border": null,
            "bottom": null,
            "display": null,
            "flex": null,
            "flex_flow": null,
            "grid_area": null,
            "grid_auto_columns": null,
            "grid_auto_flow": null,
            "grid_auto_rows": null,
            "grid_column": null,
            "grid_gap": null,
            "grid_row": null,
            "grid_template_areas": null,
            "grid_template_columns": null,
            "grid_template_rows": null,
            "height": null,
            "justify_content": null,
            "justify_items": null,
            "left": null,
            "margin": null,
            "max_height": null,
            "max_width": null,
            "min_height": null,
            "min_width": null,
            "object_fit": null,
            "object_position": null,
            "order": null,
            "overflow": null,
            "overflow_x": null,
            "overflow_y": null,
            "padding": null,
            "right": null,
            "top": null,
            "visibility": null,
            "width": null
          }
        },
        "701b85d651614dd999d232451fcc4218": {
          "model_module": "@jupyter-widgets/controls",
          "model_name": "DescriptionStyleModel",
          "model_module_version": "1.5.0",
          "state": {
            "_model_module": "@jupyter-widgets/controls",
            "_model_module_version": "1.5.0",
            "_model_name": "DescriptionStyleModel",
            "_view_count": null,
            "_view_module": "@jupyter-widgets/base",
            "_view_module_version": "1.2.0",
            "_view_name": "StyleView",
            "description_width": ""
          }
        },
        "e2fdcad088e642c5808866dd3761088f": {
          "model_module": "@jupyter-widgets/base",
          "model_name": "LayoutModel",
          "model_module_version": "1.2.0",
          "state": {
            "_model_module": "@jupyter-widgets/base",
            "_model_module_version": "1.2.0",
            "_model_name": "LayoutModel",
            "_view_count": null,
            "_view_module": "@jupyter-widgets/base",
            "_view_module_version": "1.2.0",
            "_view_name": "LayoutView",
            "align_content": null,
            "align_items": null,
            "align_self": null,
            "border": null,
            "bottom": null,
            "display": null,
            "flex": null,
            "flex_flow": null,
            "grid_area": null,
            "grid_auto_columns": null,
            "grid_auto_flow": null,
            "grid_auto_rows": null,
            "grid_column": null,
            "grid_gap": null,
            "grid_row": null,
            "grid_template_areas": null,
            "grid_template_columns": null,
            "grid_template_rows": null,
            "height": null,
            "justify_content": null,
            "justify_items": null,
            "left": null,
            "margin": null,
            "max_height": null,
            "max_width": null,
            "min_height": null,
            "min_width": null,
            "object_fit": null,
            "object_position": null,
            "order": null,
            "overflow": null,
            "overflow_x": null,
            "overflow_y": null,
            "padding": null,
            "right": null,
            "top": null,
            "visibility": null,
            "width": null
          }
        },
        "3d0ef455df14487891f6600b325ed8ff": {
          "model_module": "@jupyter-widgets/controls",
          "model_name": "ProgressStyleModel",
          "model_module_version": "1.5.0",
          "state": {
            "_model_module": "@jupyter-widgets/controls",
            "_model_module_version": "1.5.0",
            "_model_name": "ProgressStyleModel",
            "_view_count": null,
            "_view_module": "@jupyter-widgets/base",
            "_view_module_version": "1.2.0",
            "_view_name": "StyleView",
            "bar_color": null,
            "description_width": ""
          }
        },
        "316e734929944ed9aa2ff94cb3a1187d": {
          "model_module": "@jupyter-widgets/base",
          "model_name": "LayoutModel",
          "model_module_version": "1.2.0",
          "state": {
            "_model_module": "@jupyter-widgets/base",
            "_model_module_version": "1.2.0",
            "_model_name": "LayoutModel",
            "_view_count": null,
            "_view_module": "@jupyter-widgets/base",
            "_view_module_version": "1.2.0",
            "_view_name": "LayoutView",
            "align_content": null,
            "align_items": null,
            "align_self": null,
            "border": null,
            "bottom": null,
            "display": null,
            "flex": null,
            "flex_flow": null,
            "grid_area": null,
            "grid_auto_columns": null,
            "grid_auto_flow": null,
            "grid_auto_rows": null,
            "grid_column": null,
            "grid_gap": null,
            "grid_row": null,
            "grid_template_areas": null,
            "grid_template_columns": null,
            "grid_template_rows": null,
            "height": null,
            "justify_content": null,
            "justify_items": null,
            "left": null,
            "margin": null,
            "max_height": null,
            "max_width": null,
            "min_height": null,
            "min_width": null,
            "object_fit": null,
            "object_position": null,
            "order": null,
            "overflow": null,
            "overflow_x": null,
            "overflow_y": null,
            "padding": null,
            "right": null,
            "top": null,
            "visibility": null,
            "width": null
          }
        },
        "29b23b03b89c4a5085dc4daec77419aa": {
          "model_module": "@jupyter-widgets/controls",
          "model_name": "DescriptionStyleModel",
          "model_module_version": "1.5.0",
          "state": {
            "_model_module": "@jupyter-widgets/controls",
            "_model_module_version": "1.5.0",
            "_model_name": "DescriptionStyleModel",
            "_view_count": null,
            "_view_module": "@jupyter-widgets/base",
            "_view_module_version": "1.2.0",
            "_view_name": "StyleView",
            "description_width": ""
          }
        }
      }
    }
  },
  "cells": [
    {
      "cell_type": "code",
      "execution_count": 135,
      "metadata": {
        "colab": {
          "base_uri": "https://localhost:8080/"
        },
        "id": "bV7YrQ62tHrh",
        "outputId": "571654e5-9f70-4296-94b9-f667c4909a73"
      },
      "outputs": [
        {
          "output_type": "stream",
          "name": "stdout",
          "text": [
            "Drive already mounted at /content/drive; to attempt to forcibly remount, call drive.mount(\"/content/drive\", force_remount=True).\n"
          ]
        }
      ],
      "source": [
        "from google.colab import drive\n",
        "drive.mount('/content/drive')"
      ]
    },
    {
      "cell_type": "code",
      "source": [
        "import numpy as np\n",
        "import pandas as pd\n",
        "import pyarrow.parquet as pq\n",
        "from tqdm import tqdm_notebook as tqdm"
      ],
      "metadata": {
        "id": "1R6V12WavBzy"
      },
      "execution_count": 136,
      "outputs": []
    },
    {
      "cell_type": "code",
      "source": [
        "mtest = pd.read_csv('/content/drive/MyDrive/BDM/metadata_test.csv',nrows=600)\n",
        "mtrain= pd.read_csv('/content/drive/MyDrive/BDM/metadata_train.csv',nrows=1200)\n"
      ],
      "metadata": {
        "id": "esOpIykevDgK"
      },
      "execution_count": 137,
      "outputs": []
    },
    {
      "cell_type": "code",
      "source": [
        "len(mtrain)"
      ],
      "metadata": {
        "colab": {
          "base_uri": "https://localhost:8080/"
        },
        "id": "KAytbRwjvTk8",
        "outputId": "9164d396-d411-4453-af45-5cd90b7938a1"
      },
      "execution_count": 138,
      "outputs": [
        {
          "output_type": "execute_result",
          "data": {
            "text/plain": [
              "1200"
            ]
          },
          "metadata": {},
          "execution_count": 138
        }
      ]
    },
    {
      "cell_type": "code",
      "source": [
        "len(mtest)"
      ],
      "metadata": {
        "colab": {
          "base_uri": "https://localhost:8080/"
        },
        "id": "T1-uMsK2vlAu",
        "outputId": "cdd7ca0d-ca71-4093-bfa6-a549b778595e"
      },
      "execution_count": 139,
      "outputs": [
        {
          "output_type": "execute_result",
          "data": {
            "text/plain": [
              "600"
            ]
          },
          "metadata": {},
          "execution_count": 139
        }
      ]
    },
    {
      "cell_type": "code",
      "source": [
        "# Load training data\n",
        "\n",
        "\n",
        "v_raw_train = pq.read_pandas('/content/drive/MyDrive/BDM/train.parquet',columns=[str(i) for i in range(1200)]).to_pandas().values\n",
        "meta_train = np.loadtxt('/content/drive/MyDrive/BDM/metadata_train.csv', skiprows=1, delimiter=',')\n",
        "y_train = meta_train[:, 3].astype(bool)\n",
        "\n",
        "print(v_raw_train.shape)"
      ],
      "metadata": {
        "colab": {
          "base_uri": "https://localhost:8080/"
        },
        "id": "Wrp2xMSWtLwR",
        "outputId": "2d94e4e4-dfc2-4345-f027-71f7c76e2e20"
      },
      "execution_count": 140,
      "outputs": [
        {
          "output_type": "stream",
          "name": "stdout",
          "text": [
            "(800000, 1200)\n"
          ]
        }
      ]
    },
    {
      "cell_type": "code",
      "source": [
        "y_train=y_train[:-7512]"
      ],
      "metadata": {
        "id": "RMiGuJQG1ejL"
      },
      "execution_count": 141,
      "outputs": []
    },
    {
      "cell_type": "code",
      "source": [
        "len(y_train)"
      ],
      "metadata": {
        "colab": {
          "base_uri": "https://localhost:8080/"
        },
        "id": "owTjPCa81WFe",
        "outputId": "6d0f4e6a-5e93-4283-aa45-5a2c4d7b8d9d"
      },
      "execution_count": 142,
      "outputs": [
        {
          "output_type": "execute_result",
          "data": {
            "text/plain": [
              "1200"
            ]
          },
          "metadata": {},
          "execution_count": 142
        }
      ]
    },
    {
      "cell_type": "code",
      "source": [
        "len(meta_train)"
      ],
      "metadata": {
        "colab": {
          "base_uri": "https://localhost:8080/"
        },
        "id": "GaZPswFtupzQ",
        "outputId": "c3839a3e-6081-46b2-f0f2-247d156d42a5"
      },
      "execution_count": 143,
      "outputs": [
        {
          "output_type": "execute_result",
          "data": {
            "text/plain": [
              "8712"
            ]
          },
          "metadata": {},
          "execution_count": 143
        }
      ]
    },
    {
      "cell_type": "code",
      "source": [
        "meta_train=meta_train[:-7512, :] #keeping to 1000 rows only"
      ],
      "metadata": {
        "id": "cGzkXuykyREr"
      },
      "execution_count": 144,
      "outputs": []
    },
    {
      "cell_type": "code",
      "source": [
        "len(meta_train)"
      ],
      "metadata": {
        "colab": {
          "base_uri": "https://localhost:8080/"
        },
        "id": "WnYE3j2WyduH",
        "outputId": "36a04916-e249-4d0d-ce26-95ab71d63a5f"
      },
      "execution_count": 145,
      "outputs": [
        {
          "output_type": "execute_result",
          "data": {
            "text/plain": [
              "1200"
            ]
          },
          "metadata": {},
          "execution_count": 145
        }
      ]
    },
    {
      "cell_type": "code",
      "source": [
        "def compute_spectra(v_raw, *, m = 1000):\n",
        "    \"\"\"\n",
        "    compute mean and percentile - mean for every chunk of m data\n",
        "    \n",
        "    Args:\n",
        "      v_raw (array): 800,000 x n_sample; the input\n",
        "      m (int): the chunk size\n",
        "    \n",
        "    Returns: d (dict)\n",
        "      d['mean']: mean in each chunks\n",
        "      d['percentile']: percentile - mean\n",
        "    \"\"\"\n",
        "    percentile = (100, 99, 95, 0, 1, 5)\n",
        "    \n",
        "    n = v_raw.shape[1] # number of samples\n",
        "    length = v_raw.shape[0] // m # 800,000 -> 800\n",
        "    n_spectra = len(percentile)\n",
        "    \n",
        "    mean_signal = np.zeros((n, length), dtype='float32') # mean in each chunk\n",
        "    percentile_spectra = np.zeros((n, length, n_spectra), dtype='float32')\n",
        "    \n",
        "    # compute spectra\n",
        "    print('computing spectra...', flush=True)\n",
        "    for i in tqdm(range(n)):\n",
        "        v = v_raw[:, i].astype('float32').reshape(-1, m) / 128.0\n",
        "        \n",
        "        mean = np.mean(v, axis=1)        \n",
        "        s = np.abs(np.percentile(v, percentile, axis=1) - mean)\n",
        "        \n",
        "        # subtract baseline\n",
        "        h = np.percentile(s, 5.0)\n",
        "        s = np.maximum(0.0, s - h)\n",
        "\n",
        "        mean_signal[i, :] = mean\n",
        "        percentile_spectra[i, :, :] = s.T\n",
        "            \n",
        "    d = {}\n",
        "    d['mean'] = mean_signal\n",
        "    d['percentile'] = percentile_spectra\n",
        "    \n",
        "    return d\n",
        "\n",
        "spec_train = compute_spectra(v_raw_train)\n",
        "print('done.')"
      ],
      "metadata": {
        "colab": {
          "base_uri": "https://localhost:8080/",
          "height": 122,
          "referenced_widgets": [
            "03b1a115afcc4bd0a2e8ef472b5dc7c1",
            "33ba72a923a9450e9221b234f10469a1",
            "2d57849cd43640fb85d68ca7aa590a21",
            "98a0b460f4944f969390f3fa3e669c93",
            "6c6cae08c9644c9a9e688104aa84753f",
            "fe9b9102b2f141fdb5480a2466d8e11d",
            "629d84f5193745f19573c2a4afe85237",
            "241e03e2be9f498596d54dc189274134",
            "4441edc9258040e19177e1ea669b1a42",
            "9ed550d923ad4cbd833bc4436e8d21a9",
            "64e119fc6f9643489a005ae93af5c30c"
          ]
        },
        "id": "ninUqurgt4el",
        "outputId": "e3bd2a2e-8007-4fa8-b096-4b7cf68d469f"
      },
      "execution_count": 146,
      "outputs": [
        {
          "output_type": "stream",
          "name": "stdout",
          "text": [
            "computing spectra...\n"
          ]
        },
        {
          "output_type": "stream",
          "name": "stderr",
          "text": [
            "/usr/local/lib/python3.7/dist-packages/ipykernel_launcher.py:24: TqdmDeprecationWarning: This function will be removed in tqdm==5.0.0\n",
            "Please use `tqdm.notebook.tqdm` instead of `tqdm.tqdm_notebook`\n"
          ]
        },
        {
          "output_type": "display_data",
          "data": {
            "text/plain": [
              "  0%|          | 0/1200 [00:00<?, ?it/s]"
            ],
            "application/vnd.jupyter.widget-view+json": {
              "version_major": 2,
              "version_minor": 0,
              "model_id": "03b1a115afcc4bd0a2e8ef472b5dc7c1"
            }
          },
          "metadata": {}
        },
        {
          "output_type": "stream",
          "name": "stdout",
          "text": [
            "done.\n"
          ]
        }
      ]
    },
    {
      "cell_type": "code",
      "source": [
        "%matplotlib inline\n",
        "import matplotlib.pyplot as plt\n",
        "\n",
        "i_vis = 0\n",
        "\n",
        "plt.title('mean signal')\n",
        "plt.ylabel('mean')\n",
        "        \n",
        "for iphase in range(3):\n",
        "    plt.plot(spec_train['mean'][i_vis + iphase, :], label='phase %d' % iphase)\n",
        "\n",
        "plt.legend(loc=1)\n",
        "plt.show()\n",
        "\n",
        "#\n",
        "# spectra\n",
        "#\n",
        "nrow = 2\n",
        "ncol = 3\n",
        "plt.figure(figsize=(3*ncol, 3*nrow))\n",
        "plt.suptitle('Spectra -- deviation from the mean')\n",
        "\n",
        "for icol in range(3):\n",
        "    plt.subplot(nrow, ncol, icol + 1)\n",
        "    plt.title('phase %d' % icol)\n",
        "    plt.ylim(0, 0.3)\n",
        "    \n",
        "    if icol == 0:\n",
        "        plt.ylabel('max - mean')\n",
        "        \n",
        "    # max\n",
        "    plt.plot(spec_train['percentile'][i_vis + icol, :, 0])\n",
        "    \n",
        "    # 99% percentile\n",
        "    plt.subplot(nrow, ncol, icol + ncol + 1)\n",
        "    plt.ylim(0, 0.025)\n",
        "    \n",
        "    if icol == 0:\n",
        "        plt.ylabel('99% - mean')\n",
        "    plt.plot(spec_train['percentile'][i_vis + icol, :, 1])"
      ],
      "metadata": {
        "colab": {
          "base_uri": "https://localhost:8080/",
          "height": 681
        },
        "id": "BQS_C1XwyqKZ",
        "outputId": "44d8f768-12c2-4ab2-8391-988dadcd4d9c"
      },
      "execution_count": 147,
      "outputs": [
        {
          "output_type": "display_data",
          "data": {
            "text/plain": [
              "<Figure size 432x288 with 1 Axes>"
            ],
            "image/png": "[encoded data removed]"
          },
          "metadata": {
            "needs_background": "light"
          }
        },
        {
          "output_type": "display_data",
          "data": {
            "text/plain": [
              "<Figure size 648x432 with 6 Axes>"
            ],
            "image/png": "[encoded data removed]"
          },
          "metadata": {
            "needs_background": "light"
          }
        }
      ]
    },
    {
      "cell_type": "code",
      "source": [
        "\n",
        "import tensorflow.compat.v1 as tf\n",
        "\n",
        "tf.disable_v2_behavior() "
      ],
      "metadata": {
        "id": "zBJtmpW6zNYv"
      },
      "execution_count": 148,
      "outputs": []
    },
    {
      "cell_type": "code",
      "source": [
        "\n",
        "\n",
        "def max_windowed(spec, *, width=150, stride=10):\n",
        "    \"\"\"\n",
        "    Smooth the spectrum with a tophat window function and find the\n",
        "    peak inteval that maximises the smoothed spectrum.\n",
        "    \n",
        "    Returns: d(dict)\n",
        "      d['w'] (array): smoothed max - mean spectrum\n",
        "      d['ibegin'] (array): the left edge index of the peak interval\n",
        "    \"\"\"\n",
        "    n = spec.shape[0]\n",
        "    length = spec.shape[1] # 800\n",
        "    nspec = spec.shape[2] # 6 spectra\n",
        "\n",
        "    n_triplet = n // 3\n",
        "\n",
        "    # Reorganize the max spectrum from 8712 data to 2904 triplets with 3 phases\n",
        "    max_spec3 = np.empty((n_triplet, length, 3))\n",
        "    for i_triplet in range(n_triplet):\n",
        "        max_spec3[i_triplet, :, 0] = spec[3*i_triplet, :, 0] # phase 0\n",
        "        max_spec3[i_triplet, :, 1] = spec[3*i_triplet + 1, :, 0] # phase 1\n",
        "        max_spec3[i_triplet, :, 2] = spec[3*i_triplet + 2, :, 0] # phase 2\n",
        "\n",
        "    x = tf.placeholder(tf.float32, [None, length, 3]) # input spectra before smoothing\n",
        "    # 800 -> 80: static convolaution\n",
        "    # convolution but not CNN, the kernel is static\n",
        "    # smoothing/convolution kernel\n",
        "    # tophat window function\n",
        "    # shape (3, 1) adds up 3 phases to one output\n",
        "    K = np.ones((width, 3, 1), dtype='float32') / width\n",
        "\n",
        "    W_conv1 = tf.constant(K)\n",
        "    h_conv1 = tf.nn.conv1d(x, W_conv1, stride=stride, padding='VALID')\n",
        "    \n",
        "    with tf.Session() as sess:\n",
        "        w = sess.run(h_conv1, feed_dict={x:max_spec3})\n",
        "\n",
        "    imax = np.argmax(w[:, :, 0], axis=1) # index of maximum smoothed spectrum\n",
        "    \n",
        "    d = {}\n",
        "    d['w'] = w # smoothed max spectrum\n",
        "    d['ibegin'] = imax*stride\n",
        "    \n",
        "    return d\n",
        "\n",
        "peaks = max_windowed(spec_train['percentile'])"
      ],
      "metadata": {
        "id": "dLT2Qquzt5fD"
      },
      "execution_count": 149,
      "outputs": []
    },
    {
      "cell_type": "code",
      "source": [
        "i_vis = 0\n",
        "nrow = 1\n",
        "ncol = 3\n",
        "plt.figure(figsize=(3*ncol, 3*nrow))\n",
        "plt.suptitle('spectra')\n",
        "\n",
        "for j in range(3):\n",
        "    plt.subplot(nrow, ncol, j + 1)\n",
        "    plt.ylim(0, 0.3)\n",
        "    \n",
        "    ibegin = peaks['ibegin'][i_vis]\n",
        "    plt.axvspan(ibegin, ibegin + 150, alpha=0.2, color='red')\n",
        "    \n",
        "    # max - mean spectrum\n",
        "    plt.plot(spec_train['percentile'][i_vis + j, :, 0])\n",
        "    \n",
        "    # smoothed max - mean spectrum\n",
        "    xx = np.arange(peaks['w'].shape[1])*10 + 150//2\n",
        "    plt.plot(xx, peaks['w'][i_vis])"
      ],
      "metadata": {
        "colab": {
          "base_uri": "https://localhost:8080/",
          "height": 233
        },
        "id": "ggrzj6jiztay",
        "outputId": "c6018c6e-4df5-4d88-aaed-e3da35710029"
      },
      "execution_count": 150,
      "outputs": [
        {
          "output_type": "display_data",
          "data": {
            "text/plain": [
              "<Figure size 648x216 with 3 Axes>"
            ],
            "image/png": "[encoded data removed]"
          },
          "metadata": {
            "needs_background": "light"
          }
        }
      ]
    },
    {
      "cell_type": "code",
      "source": [
        "def compute_features(v_raw, spec=None):\n",
        "    \"\"\"\n",
        "    Args:\n",
        "      v_raw (array): The original 800,000 x 1200 training data\n",
        "      spec (dict): The result of compute_spectra() if already computed.\n",
        "                   If it is None, it will be computed automatically.\n",
        "    \n",
        "    Returns:\n",
        "       X (array): Feature vector of shape (400, 57)\n",
        "                  400 triplets, 57 features\n",
        "    \"\"\"\n",
        "    if spec is None:\n",
        "        spec = compute_spectra(v_raw)\n",
        "    \n",
        "    v_spec = spec['percentile']\n",
        "    shape = v_spec.shape\n",
        "    n = shape[0] # number of data\n",
        "    length = shape[1]\n",
        "    nspec = shape[2]\n",
        "    \n",
        "    n_triplet = n // 3\n",
        "    \n",
        "    # Reorder to i_triplet, phase\n",
        "    spec3 = np.empty((n_triplet, length, nspec, 3))\n",
        "    \n",
        "    for i_triplet in range(n_triplet):\n",
        "        spec3[i_triplet, :, :, 0] = v_spec[3*i_triplet, :, :] # phase 0\n",
        "        spec3[i_triplet, :, :, 1] = v_spec[3*i_triplet + 1, :, :] # phase 1\n",
        "        spec3[i_triplet, :, :, 2] = v_spec[3*i_triplet + 2, :, :] # phase 2\n",
        "\n",
        "    # extract \"max-windowed\" from the spectra\n",
        "    width = 150\n",
        "    peaks = max_windowed(v_spec, width=width)\n",
        "    \n",
        "    # Feature vector\n",
        "    n_feature4 = 3\n",
        "    X = np.empty((n_triplet, n_feature4*nspec*3 + 3))\n",
        "    \n",
        "    # features for each percentile and phase\n",
        "    X4 = np.empty((n_triplet, n_feature4, nspec, 3)) # triplet, figure, spec type, phase\n",
        "        \n",
        "    for i_triplet in range(n_triplet):       \n",
        "        # Maximum of the spectra in the full range\n",
        "        # 18 features (6 percentiles x 3 phases)\n",
        "        X4[i_triplet, 0, :, :] = np.max(spec3[i_triplet, :, :, :], axis=0)\n",
        "        \n",
        "        # Peak interval\n",
        "        ibegin = peaks['ibegin'][i_triplet]\n",
        "        iend = ibegin + width\n",
        "        imid = ibegin + width // 2\n",
        "    \n",
        "        # Mean of the spectra in the peak inteval 18 features\n",
        "        X4[i_triplet, 1, :, :] = np.mean(spec3[i_triplet, ibegin:iend, :, :], axis=0)\n",
        "        \n",
        "        # Max of the spectra in the peak inteval (18 features)\n",
        "        X4[i_triplet, 2, :, :] = np.max(spec3[i_triplet, ibegin:iend, :, :], axis=0)\n",
        "        \n",
        "        # Mean signal at the midpoint of the interval (3 features)\n",
        "        X[i_triplet, 0] = spec['mean'][3*i_triplet,     imid]\n",
        "        X[i_triplet, 1] = spec['mean'][3*i_triplet + 1, imid]\n",
        "        X[i_triplet, 2] = spec['mean'][3*i_triplet + 2, imid]\n",
        "    \n",
        "    shape = X4.shape\n",
        "    \n",
        "    # Flatten the X4 tensor\n",
        "    # 3 + 18x3 = 57 features\n",
        "    X[:, 3:] = X4.reshape(shape[0], shape[1]*shape[2]*shape[3])\n",
        "    \n",
        "    return X\n",
        "\n",
        "X_all3 = compute_features(v_raw_train, spec_train)\n",
        "\n",
        "# The label for the triple\n",
        "# True iff two or more labels in 3 phases are True\n",
        "y_all3 = np.sum(y_train.reshape(-1, 3), axis=1) >= 2\n",
        "\n",
        "print('Three phases are combined into one training data; the shapes are, therefore,')\n",
        "print(X_all3.shape, y_all3.shape)"
      ],
      "metadata": {
        "colab": {
          "base_uri": "https://localhost:8080/"
        },
        "id": "GeESVCSVzv2K",
        "outputId": "7faca14e-5d8a-446d-f44f-16cf51d5dba2"
      },
      "execution_count": 151,
      "outputs": [
        {
          "output_type": "stream",
          "name": "stdout",
          "text": [
            "Three phases are combined into one training data; the shapes are, therefore,\n",
            "(400, 57) (400,)\n"
          ]
        }
      ]
    },
    {
      "cell_type": "code",
      "source": [
        "plt.figure()\n",
        "plt.title('mean max vs 99 percentile spectra in the peak interval')\n",
        "plt.xlabel('max')\n",
        "plt.ylabel('99 percentile')\n",
        "plt.ylim(0, 0.11)\n",
        "plt.xlim(0, 0.2)\n",
        "\n",
        "\n",
        "j_max = 3 + 18 + 0\n",
        "j_99 = 3 + 18 + 3\n",
        "\n",
        "idx_pos = y_all3 # positive samples\n",
        "idx_neg = np.logical_not(y_all3) # negative samples\n",
        "\n",
        "plt.plot(X_all3[idx_neg, j_max], X_all3[idx_neg, j_99], ',', color='gray', label='False')\n",
        "plt.plot(X_all3[idx_pos, j_max], X_all3[idx_pos, j_99], ',', color='red', label='True')\n",
        "plt.show()"
      ],
      "metadata": {
        "colab": {
          "base_uri": "https://localhost:8080/",
          "height": 295
        },
        "id": "41aQzogez2K3",
        "outputId": "d7bd8b2d-9fd7-49ac-dbbf-12b6e3425d94"
      },
      "execution_count": 152,
      "outputs": [
        {
          "output_type": "display_data",
          "data": {
            "text/plain": [
              "<Figure size 432x288 with 1 Axes>"
            ],
            "image/png": "[encoded data removed]"
          },
          "metadata": {
            "needs_background": "light"
          }
        }
      ]
    },
    {
      "cell_type": "markdown",
      "source": [
        "ignore\n"
      ],
      "metadata": {
        "id": "EksSFDhW4JBV"
      }
    },
    {
      "cell_type": "code",
      "source": [
        "knowledge_data = pd.read_csv('/content/drive/MyDrive/BDM/sub_ens_v16.csv')"
      ],
      "metadata": {
        "id": "hnOSFs1k3Fzq"
      },
      "execution_count": 153,
      "outputs": []
    },
    {
      "cell_type": "code",
      "source": [
        "len(knowledge_data)"
      ],
      "metadata": {
        "colab": {
          "base_uri": "https://localhost:8080/"
        },
        "id": "QJ_OKfo13J_z",
        "outputId": "953ab856-01f5-41a4-8c51-d7db4c349bbb"
      },
      "execution_count": 154,
      "outputs": [
        {
          "output_type": "execute_result",
          "data": {
            "text/plain": [
              "20337"
            ]
          },
          "metadata": {},
          "execution_count": 154
        }
      ]
    },
    {
      "cell_type": "code",
      "source": [
        "knowledge_data.head(2)"
      ],
      "metadata": {
        "colab": {
          "base_uri": "https://localhost:8080/",
          "height": 112
        },
        "id": "WSIE618m-kCP",
        "outputId": "2c5fcaee-644a-46d1-bb71-ea800d6bd78f"
      },
      "execution_count": 155,
      "outputs": [
        {
          "output_type": "execute_result",
          "data": {
            "text/plain": [
              "   signal_id  target\n",
              "0       8712       0\n",
              "1       8713       0"
            ],
            "text/html": [
              "\n",
              "  <div id=\"df-2d552c49-80ce-4a96-9c73-13a03c8dd96c\">\n",
              "    <div class=\"colab-df-container\">\n",
              "      <div>\n",
              "<style scoped>\n",
              "    .dataframe tbody tr th:only-of-type {\n",
              "        vertical-align: middle;\n",
              "    }\n",
              "\n",
              "    .dataframe tbody tr th {\n",
              "        vertical-align: top;\n",
              "    }\n",
              "\n",
              "    .dataframe thead th {\n",
              "        text-align: right;\n",
              "    }\n",
              "</style>\n",
              "<table border=\"1\" class=\"dataframe\">\n",
              "  <thead>\n",
              "    <tr style=\"text-align: right;\">\n",
              "      <th></th>\n",
              "      <th>signal_id</th>\n",
              "      <th>target</th>\n",
              "    </tr>\n",
              "  </thead>\n",
              "  <tbody>\n",
              "    <tr>\n",
              "      <th>0</th>\n",
              "      <td>8712</td>\n",
              "      <td>0</td>\n",
              "    </tr>\n",
              "    <tr>\n",
              "      <th>1</th>\n",
              "      <td>8713</td>\n",
              "      <td>0</td>\n",
              "    </tr>\n",
              "  </tbody>\n",
              "</table>\n",
              "</div>\n",
              "      <button class=\"colab-df-convert\" onclick=\"convertToInteractive('df-2d552c49-80ce-4a96-9c73-13a03c8dd96c')\"\n",
              "              title=\"Convert this dataframe to an interactive table.\"\n",
              "              style=\"display:none;\">\n",
              "        \n",
              "  <svg xmlns=\"http://www.w3.org/2000/svg\" height=\"24px\"viewBox=\"0 0 24 24\"\n",
              "       width=\"24px\">\n",
              "    <path d=\"M0 0h24v24H0V0z\" fill=\"none\"/>\n",
              "    <path d=\"M18.56 5.44l.94 2.06.94-2.06 2.06-.94-2.06-.94-.94-2.06-.94 2.06-2.06.94zm-11 1L8.5 8.5l.94-2.06 2.06-.94-2.06-.94L8.5 2.5l-.94 2.06-2.06.94zm10 10l.94 2.06.94-2.06 2.06-.94-2.06-.94-.94-2.06-.94 2.06-2.06.94z\"/><path d=\"M17.41 7.96l-1.37-1.37c-.4-.4-.92-.59-1.43-.59-.52 0-1.04.2-1.43.59L10.3 9.45l-7.72 7.72c-.78.78-.78 2.05 0 2.83L4 21.41c.39.39.9.59 1.41.59.51 0 1.02-.2 1.41-.59l7.78-7.78 2.81-2.81c.8-.78.8-2.07 0-2.86zM5.41 20L4 18.59l7.72-7.72 1.47 1.35L5.41 20z\"/>\n",
              "  </svg>\n",
              "      </button>\n",
              "      \n",
              "  <style>\n",
              "    .colab-df-container {\n",
              "      display:flex;\n",
              "      flex-wrap:wrap;\n",
              "      gap: 12px;\n",
              "    }\n",
              "\n",
              "    .colab-df-convert {\n",
              "      background-color: #E8F0FE;\n",
              "      border: none;\n",
              "      border-radius: 50%;\n",
              "      cursor: pointer;\n",
              "      display: none;\n",
              "      fill: #1967D2;\n",
              "      height: 32px;\n",
              "      padding: 0 0 0 0;\n",
              "      width: 32px;\n",
              "    }\n",
              "\n",
              "    .colab-df-convert:hover {\n",
              "      background-color: #E2EBFA;\n",
              "      box-shadow: 0px 1px 2px rgba(60, 64, 67, 0.3), 0px 1px 3px 1px rgba(60, 64, 67, 0.15);\n",
              "      fill: #174EA6;\n",
              "    }\n",
              "\n",
              "    [theme=dark] .colab-df-convert {\n",
              "      background-color: #3B4455;\n",
              "      fill: #D2E3FC;\n",
              "    }\n",
              "\n",
              "    [theme=dark] .colab-df-convert:hover {\n",
              "      background-color: #434B5C;\n",
              "      box-shadow: 0px 1px 3px 1px rgba(0, 0, 0, 0.15);\n",
              "      filter: drop-shadow(0px 1px 2px rgba(0, 0, 0, 0.3));\n",
              "      fill: #FFFFFF;\n",
              "    }\n",
              "  </style>\n",
              "\n",
              "      <script>\n",
              "        const buttonEl =\n",
              "          document.querySelector('#df-2d552c49-80ce-4a96-9c73-13a03c8dd96c button.colab-df-convert');\n",
              "        buttonEl.style.display =\n",
              "          google.colab.kernel.accessAllowed ? 'block' : 'none';\n",
              "\n",
              "        async function convertToInteractive(key) {\n",
              "          const element = document.querySelector('#df-2d552c49-80ce-4a96-9c73-13a03c8dd96c');\n",
              "          const dataTable =\n",
              "            await google.colab.kernel.invokeFunction('convertToInteractive',\n",
              "                                                     [key], {});\n",
              "          if (!dataTable) return;\n",
              "\n",
              "          const docLinkHtml = 'Like what you see? Visit the ' +\n",
              "            '<a target=\"_blank\" href=https://colab.research.google.com/notebooks/data_table.ipynb>data table notebook</a>'\n",
              "            + ' to learn more about interactive tables.';\n",
              "          element.innerHTML = '';\n",
              "          dataTable['output_type'] = 'display_data';\n",
              "          await google.colab.output.renderOutput(dataTable, element);\n",
              "          const docLink = document.createElement('div');\n",
              "          docLink.innerHTML = docLinkHtml;\n",
              "          element.appendChild(docLink);\n",
              "        }\n",
              "      </script>\n",
              "    </div>\n",
              "  </div>\n",
              "  "
            ]
          },
          "metadata": {},
          "execution_count": 155
        }
      ]
    },
    {
      "cell_type": "code",
      "source": [
        "knowledge_data.count()"
      ],
      "metadata": {
        "colab": {
          "base_uri": "https://localhost:8080/"
        },
        "id": "NQhtV03y3QAj",
        "outputId": "254134a0-80e3-45cf-ce02-446fd46b8b03"
      },
      "execution_count": 156,
      "outputs": [
        {
          "output_type": "execute_result",
          "data": {
            "text/plain": [
              "signal_id    20337\n",
              "target       20337\n",
              "dtype: int64"
            ]
          },
          "metadata": {},
          "execution_count": 156
        }
      ]
    },
    {
      "cell_type": "markdown",
      "source": [
        "began\n"
      ],
      "metadata": {
        "id": "NxE40zy-4MEw"
      }
    },
    {
      "cell_type": "code",
      "source": [
        "# Release RAM of the training data \n",
        "if 'v_raw_train' in globals():\n",
        "    del v_raw_train\n",
        "\n",
        "# Load test data\n",
        "id_test = np.loadtxt('/content/drive/MyDrive/BDM/metadata_test.csv', skiprows=1, delimiter=',')[:, 0].astype(int)\n",
        "id_test=id_test[:600]\n",
        "n_test = len(id_test)\n",
        "\n",
        "X_tests = []\n",
        "\n",
        "# Load test data and compute the feature vector\n",
        "# The test data is split into 4 to fit it into RAM\n",
        "n_subset = 4\n",
        "nread = 0\n",
        "\n",
        "for i_subset in range(n_subset):\n",
        "    # signal_id range in the test data; 8712 is the first data in the test.parquet\n",
        "    ibegin = 8712 + 3*int(n_test // 3 * (i_subset/n_subset))\n",
        "    iend = 8712 + 3*int(n_test // 3 * ((i_subset + 1)/n_subset))\n",
        "    \n",
        "    print('Loading %d/%d; signal_id %d - %d...' % (i_subset, n_subset, ibegin, iend))\n",
        "    v_raw_test = pq.read_pandas('/content/drive/MyDrive/BDM/test.parquet',columns=[str(i) for i in range(ibegin, iend)]).to_pandas().values\n",
        "    \n",
        "    nread += v_raw_test.shape[1]\n",
        "    X = compute_features(v_raw_test)\n",
        "    X_tests.append(X)\n",
        "    print('%d/%d test data processed.' % (nread, n_test))\n",
        "\n",
        "    del v_raw_test\n",
        "\n",
        "X_test = np.concatenate(X_tests, axis=0)\n",
        "assert(X_test.shape[0] == id_test.shape[0] // 3)\n",
        "\n",
        "del X_tests\n",
        "\n",
        "print('X_test computation done. shape', X_test.shape)"
      ],
      "metadata": {
        "colab": {
          "base_uri": "https://localhost:8080/",
          "height": 419,
          "referenced_widgets": [
            "6d4f9afa165445109f199baa54945ebd",
            "34e8278952cb42819a06de5a9c09851b",
            "4759e0360eab4d3d9cf8fd1406ce1ca8",
            "c02ff8bf77394064b27ccac04e431194",
            "d818ba73527d4fb0bf0a956eb01e949a",
            "973687f3ef544f8485ac0e1f576240b0",
            "ee4004a893b74fb998548b63a746794c",
            "8da0664ca6834fd09f3bfb7bd142b025",
            "7c822cde1be8422b84900c3597a4cdea",
            "4b61dbea35e24a738581639df8f4929a",
            "e066c3ceabed465db4f424efd5f3ced6",
            "3abbed8d900545f381cf9af6f4693fc1",
            "017067c2572d47dab685ff28ced24800",
            "ca0a95003e1c43c8b9e3494131a74cbd",
            "28bc030c10ac4d56a829ef063544cac9",
            "e67c6ba7b7624332ad10647e8e56cadc",
            "c80c8224ae5b4853bf20d8687bfb0a79",
            "1dd23a1b586346228e305b1a58c7e7e0",
            "20ee648d8b3047d5b41edc73a13ce11a",
            "83d3bf529d484f168b97219210187d52",
            "15ac3f27b31e4f838685cb980c11ea39",
            "e2917cc1e33645158b4485591b0e4853",
            "5b747036366d4e4b92fc5f3ec5a568f6",
            "c06b34c7d76546558cd11f536015069a",
            "13b786883ea248aebfec560d1e0c343c",
            "fb83224a523f4ba8a20f1df5eb584e23",
            "b15b7ce452414ae9a203412f353740c9",
            "01043082f9b249b890f0f61a0e0bf56c",
            "2726aa3da7a6492b92e473b5d55fcb81",
            "16ac255ad4b94ed4a9e8dae33585ca1e",
            "3081e08b19a948ff878a8ff6ed4904f7",
            "6e06e40303d843b8b9a028795d44ff89",
            "c059edf580f3416d89d6235af9c05614",
            "a7e271ac612c4cf0ae183997df05f413",
            "cfb31a94a8e741e29f5241b1e0227003",
            "2fb442cf3cb646159654cac4eea68f38",
            "04cfc59d384a4ff9b39131b62a3dd05f",
            "a2ae99ac1b7a43328e65a7a3aeb458cb",
            "b033c5bb58ab4bc1a2a0777d46f15f14",
            "701b85d651614dd999d232451fcc4218",
            "e2fdcad088e642c5808866dd3761088f",
            "3d0ef455df14487891f6600b325ed8ff",
            "316e734929944ed9aa2ff94cb3a1187d",
            "29b23b03b89c4a5085dc4daec77419aa"
          ]
        },
        "id": "cDpD2Ozp3Vqr",
        "outputId": "82db69fd-34aa-40e1-c835-0151387235fa"
      },
      "execution_count": 157,
      "outputs": [
        {
          "output_type": "stream",
          "name": "stdout",
          "text": [
            "Loading 0/4; signal_id 8712 - 8862...\n",
            "computing spectra...\n"
          ]
        },
        {
          "output_type": "stream",
          "name": "stderr",
          "text": [
            "/usr/local/lib/python3.7/dist-packages/ipykernel_launcher.py:24: TqdmDeprecationWarning: This function will be removed in tqdm==5.0.0\n",
            "Please use `tqdm.notebook.tqdm` instead of `tqdm.tqdm_notebook`\n"
          ]
        },
        {
          "output_type": "display_data",
          "data": {
            "text/plain": [
              "  0%|          | 0/150 [00:00<?, ?it/s]"
            ],
            "application/vnd.jupyter.widget-view+json": {
              "version_major": 2,
              "version_minor": 0,
              "model_id": "6d4f9afa165445109f199baa54945ebd"
            }
          },
          "metadata": {}
        },
        {
          "output_type": "stream",
          "name": "stdout",
          "text": [
            "150/600 test data processed.\n",
            "Loading 1/4; signal_id 8862 - 9012...\n",
            "computing spectra...\n"
          ]
        },
        {
          "output_type": "display_data",
          "data": {
            "text/plain": [
              "  0%|          | 0/150 [00:00<?, ?it/s]"
            ],
            "application/vnd.jupyter.widget-view+json": {
              "version_major": 2,
              "version_minor": 0,
              "model_id": "3abbed8d900545f381cf9af6f4693fc1"
            }
          },
          "metadata": {}
        },
        {
          "output_type": "stream",
          "name": "stdout",
          "text": [
            "300/600 test data processed.\n",
            "Loading 2/4; signal_id 9012 - 9162...\n",
            "computing spectra...\n"
          ]
        },
        {
          "output_type": "display_data",
          "data": {
            "text/plain": [
              "  0%|          | 0/150 [00:00<?, ?it/s]"
            ],
            "application/vnd.jupyter.widget-view+json": {
              "version_major": 2,
              "version_minor": 0,
              "model_id": "5b747036366d4e4b92fc5f3ec5a568f6"
            }
          },
          "metadata": {}
        },
        {
          "output_type": "stream",
          "name": "stdout",
          "text": [
            "450/600 test data processed.\n",
            "Loading 3/4; signal_id 9162 - 9312...\n",
            "computing spectra...\n"
          ]
        },
        {
          "output_type": "display_data",
          "data": {
            "text/plain": [
              "  0%|          | 0/150 [00:00<?, ?it/s]"
            ],
            "application/vnd.jupyter.widget-view+json": {
              "version_major": 2,
              "version_minor": 0,
              "model_id": "a7e271ac612c4cf0ae183997df05f413"
            }
          },
          "metadata": {}
        },
        {
          "output_type": "stream",
          "name": "stdout",
          "text": [
            "600/600 test data processed.\n",
            "X_test computation done. shape (200, 57)\n"
          ]
        }
      ]
    },
    {
      "cell_type": "code",
      "source": [],
      "metadata": {
        "id": "daqatCsf9xI0"
      },
      "execution_count": 157,
      "outputs": []
    },
    {
      "cell_type": "code",
      "source": [
        "len_train=len(X_all3)\n",
        "\n",
        "y_list=knowledge_data['target'].values\n",
        "y_test=[]\n",
        "for j in range(0,len(y_list),3):\n",
        "    y_test.append(y_list[j])\n",
        "y_test=np.asarray(y_test)\n",
        "del knowledge_data\n",
        "# gc.collect()\n",
        "print(X_all3.shape,y_all3.shape)\n",
        "y_test=y_test[:200]\n",
        "print(X_test.shape,y_test.shape)\n",
        "#\n",
        "X_all3=np.concatenate([X_all3,X_test])\n",
        "y_all3=np.concatenate([y_all3,y_test]) "
      ],
      "metadata": {
        "colab": {
          "base_uri": "https://localhost:8080/"
        },
        "id": "u2m2ok7s88ac",
        "outputId": "ef7d2914-2775-4389-9f0a-a9c52461197f"
      },
      "execution_count": 158,
      "outputs": [
        {
          "output_type": "stream",
          "name": "stdout",
          "text": [
            "(400, 57) (400,)\n",
            "(200, 57) (200,)\n"
          ]
        }
      ]
    },
    {
      "cell_type": "code",
      "source": [
        "y_test.shape"
      ],
      "metadata": {
        "colab": {
          "base_uri": "https://localhost:8080/"
        },
        "id": "HqsVunYr_d3r",
        "outputId": "dd23e96c-e6a5-438b-bf41-45eb0bb16c2a"
      },
      "execution_count": 133,
      "outputs": [
        {
          "output_type": "execute_result",
          "data": {
            "text/plain": [
              "(6779,)"
            ]
          },
          "metadata": {},
          "execution_count": 133
        }
      ]
    },
    {
      "cell_type": "code",
      "source": [
        "!pip install catboost"
      ],
      "metadata": {
        "colab": {
          "base_uri": "https://localhost:8080/"
        },
        "id": "nNSolFlyAoK0",
        "outputId": "09a713f8-75c9-4817-c877-980242b83cfe"
      },
      "execution_count": 160,
      "outputs": [
        {
          "output_type": "stream",
          "name": "stdout",
          "text": [
            "Looking in indexes: https://pypi.org/simple, https://us-python.pkg.dev/colab-wheels/public/simple/\n",
            "Collecting catboost\n",
            "  Downloading catboost-1.0.6-cp37-none-manylinux1_x86_64.whl (76.6 MB)\n",
            "\u001b[K     |████████████████████████████████| 76.6 MB 1.2 MB/s \n",
            "\u001b[?25hRequirement already satisfied: pandas>=0.24.0 in /usr/local/lib/python3.7/dist-packages (from catboost) (1.3.5)\n",
            "Requirement already satisfied: six in /usr/local/lib/python3.7/dist-packages (from catboost) (1.15.0)\n",
            "Requirement already satisfied: numpy>=1.16.0 in /usr/local/lib/python3.7/dist-packages (from catboost) (1.21.6)\n",
            "Requirement already satisfied: scipy in /usr/local/lib/python3.7/dist-packages (from catboost) (1.7.3)\n",
            "Requirement already satisfied: matplotlib in /usr/local/lib/python3.7/dist-packages (from catboost) (3.2.2)\n",
            "Requirement already satisfied: graphviz in /usr/local/lib/python3.7/dist-packages (from catboost) (0.10.1)\n",
            "Requirement already satisfied: plotly in /usr/local/lib/python3.7/dist-packages (from catboost) (5.5.0)\n",
            "Requirement already satisfied: pytz>=2017.3 in /usr/local/lib/python3.7/dist-packages (from pandas>=0.24.0->catboost) (2022.2.1)\n",
            "Requirement already satisfied: python-dateutil>=2.7.3 in /usr/local/lib/python3.7/dist-packages (from pandas>=0.24.0->catboost) (2.8.2)\n",
            "Requirement already satisfied: cycler>=0.10 in /usr/local/lib/python3.7/dist-packages (from matplotlib->catboost) (0.11.0)\n",
            "Requirement already satisfied: kiwisolver>=1.0.1 in /usr/local/lib/python3.7/dist-packages (from matplotlib->catboost) (1.4.4)\n",
            "Requirement already satisfied: pyparsing!=2.0.4,!=2.1.2,!=2.1.6,>=2.0.1 in /usr/local/lib/python3.7/dist-packages (from matplotlib->catboost) (3.0.9)\n",
            "Requirement already satisfied: typing-extensions in /usr/local/lib/python3.7/dist-packages (from kiwisolver>=1.0.1->matplotlib->catboost) (4.1.1)\n",
            "Requirement already satisfied: tenacity>=6.2.0 in /usr/local/lib/python3.7/dist-packages (from plotly->catboost) (8.0.1)\n",
            "Installing collected packages: catboost\n",
            "Successfully installed catboost-1.0.6\n"
          ]
        }
      ]
    },
    {
      "cell_type": "code",
      "source": [
        "import sklearn.model_selection\n",
        "import sklearn.metrics\n",
        "\n",
        "from catboost import CatBoostClassifier\n",
        "\n",
        "# split into train and CV data\n",
        "n_splits = 5\n",
        "\n",
        "models = []\n",
        "scores = np.zeros(n_splits)\n",
        "\n",
        "print('Training...')\n",
        "print('MCC training & cv') # MCC = Matthews Correlation Coefficient\n",
        "\n",
        "\n",
        "seeds=[0,42,1204,2019]\n",
        "for seed in seeds:\n",
        "    splits = list(sklearn.model_selection.StratifiedKFold(n_splits=n_splits, shuffle=True, random_state=seed).split(X_all3, y_all3))\n",
        "\n",
        "    for i, (idx_train, idx_cv) in enumerate(splits):\n",
        "        X_train = X_all3[idx_train, :]\n",
        "        y_train = y_all3[idx_train]\n",
        "\n",
        "        X_cv = X_all3[idx_cv, :]\n",
        "        y_cv = y_all3[idx_cv]\n",
        "\n",
        "        # Learning rate is important; large values overfit the data\n",
        "        learning_rate = 0.006\n",
        "        model = CatBoostClassifier(learning_rate=learning_rate, od_type='IncToDec',\n",
        "                                loss_function='Logloss', use_best_model=True, eval_metric='MCC')\n",
        "\n",
        "        model.fit(X_train, y_train.astype(float), silent=True,\n",
        "                  eval_set=(X_cv, y_cv.astype(float)))\n",
        "\n",
        "        y_predict_train = model.predict(X_train)\n",
        "        y_predict_cv = model.predict(X_cv)\n",
        "\n",
        "    #     score_train = sklearn.metrics.matthews_corrcoef(y_train, y_predict_train)\n",
        "        score_cv = sklearn.metrics.matthews_corrcoef(y_cv, y_predict_cv)\n",
        "\n",
        "        models.append(model)\n",
        "        scores[i] = score_cv\n",
        "    \n",
        "#     print('%d %.3f %.3f' % (i, score_train, score_cv))\n",
        "\n",
        "print('CV scores %.3f ± %.3f' % (np.mean(scores), np.std(scores)))"
      ],
      "metadata": {
        "colab": {
          "base_uri": "https://localhost:8080/"
        },
        "id": "5EHl7rXJ5wZr",
        "outputId": "191ff199-6cd2-4bd7-9696-2e0e39cad9df"
      },
      "execution_count": 161,
      "outputs": [
        {
          "output_type": "stream",
          "name": "stdout",
          "text": [
            "Training...\n",
            "MCC training & cv\n",
            "CV scores 0.652 ± 0.128\n"
          ]
        }
      ]
    }
  ]
}